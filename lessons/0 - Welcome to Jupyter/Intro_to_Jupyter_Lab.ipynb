{
 "cells": [
  {
   "cell_type": "markdown",
   "source": [
    "# Introduction to Jupyter Notebooks and Jupyter Lab\n",
    "\n",
    "Welcome to the world of Jupyter Notebooks and Jupyter Lab! In this tutorial, we will cover the basics of working with Jupyter Notebooks and how to start Jupyter Lab.\n",
    "\n",
    "Jupyter Notebooks are interactive computing environments that allow you to create and share live code, equations, visualizations, and narrative text. Jupyter Lab is an interactive development environment for working with notebooks, code, and data.\n",
    "\n",
    "## Starting Jupyter Lab\n",
    "\n",
    "To start Jupyter Lab, follow these steps:\n",
    "\n",
    "1. Open a terminal or command prompt.\n",
    "2. Navigate to the directory where you want to create or access your Jupyter Notebooks.\n",
    "3. Type `jupyter lab` and press Enter.\n",
    "\n",
    "Jupyter Lab will start and open in your default web browser. You can now create, open, and edit Jupyter Notebooks.\n",
    "\n",
    "## Working with Jupyter Notebooks\n",
    "\n",
    "Jupyter Notebooks consist of cells. Cells can contain code, Markdown text, or raw text. There are three main types of cells:\n",
    "\n",
    "1. **Code cells**: These cells contain executable code, such as Python, R, or Julia code. You can run the code in a code cell by pressing `Shift + Enter`.\n",
    "\n",
    "2. **Markdown cells**: These cells contain Markdown text, which can be used to format text, create headers, lists, tables, and more. To render the Markdown, press `Shift + Enter`.\n",
    "\n",
    "3. **Raw cells**: These cells contain raw text and are not executed or rendered.\n",
    "\n",
    "Let's create and run a simple code cell.\n",
    "\n"
   ],
   "metadata": {
    "collapsed": false
   }
  },
  {
   "cell_type": "code",
   "execution_count": 1,
   "outputs": [
    {
     "name": "stdout",
     "output_type": "stream",
     "text": [
      "Hello, Jupyter Notebooks!\n"
     ]
    }
   ],
   "source": [
    "print(\"Hello, Jupyter Notebooks!\")"
   ],
   "metadata": {
    "collapsed": false
   }
  },
  {
   "cell_type": "markdown",
   "source": [
    "Congratulations! You have successfully created and run your first Jupyter Notebook code cell.\n",
    "\n",
    "Feel free to explore Jupyter Lab and create more notebooks to practice your skills. Good luck and happy coding!\n"
   ],
   "metadata": {
    "collapsed": false
   }
  },
  {
   "cell_type": "markdown",
   "source": [
    "## Switching Between Code Cells\n",
    "\n",
    "In Jupyter Notebooks, you may often need to switch between code cells, especially when working with multiple cells containing code, Markdown, or raw text. To switch between cells, you can use your mouse or keyboard shortcuts.\n",
    "\n",
    "### Using the mouse\n",
    "\n",
    "To switch between cells using your mouse, simply click on the desired cell. The cell will be highlighted with a border to indicate that it is the active cell.\n",
    "\n",
    "### Using keyboard shortcuts\n",
    "\n",
    "You can also use keyboard shortcuts to navigate between cells. Here are some useful shortcuts:\n",
    "\n",
    "- `Up Arrow` or `k`: Move to the previous cell.\n",
    "- `Down Arrow` or `j`: Move to the next cell.\n",
    "- `Enter`: Enter edit mode for the selected cell.\n",
    "- `Esc`: Exit edit mode and return to command mode.\n",
    "\n",
    "### Creating and converting cells\n",
    "\n",
    "You can easily create new cells and convert existing cells between code, Markdown, and raw cell types. Here are some keyboard shortcuts that can help:\n",
    "\n",
    "- `a`: Create a new cell above the currently selected cell (in command mode).\n",
    "- `b`: Create a new cell below the currently selected cell (in command mode).\n",
    "- `m`: Convert the selected cell to a Markdown cell (in command mode).\n",
    "- `y`: Convert the selected cell to a code cell (in command mode).\n",
    "- `r`: Convert the selected cell to a raw cell (in command mode).\n",
    "\n",
    "Remember to be in command mode (press `Esc` if you're in edit mode) when using these shortcuts. You can also access these options by right-clicking on a cell and selecting the desired option from the context menu.\n",
    "\n",
    "Now that you know how to switch between code cells and create new ones, try creating a few cells and practice navigating between them.\n"
   ],
   "metadata": {
    "collapsed": false
   }
  },
  {
   "cell_type": "markdown",
   "source": [
    "### Exercise\n",
    "\n",
    "To better understand how to switch between code cells, let's create a few cells and practice navigating between them. Create three code cells with the following content:\n",
    "\n",
    "**Code cell 1:**\n",
    "\n",
    "```python\n",
    "a = 5\n",
    "b = 3\n",
    "result = a + b\n",
    "```\n",
    "\n",
    "**Code cell 2:**\n",
    "```python\n",
    "print(f\"The result of {a} + {b} is {result}.\")\n",
    "```\n",
    "\n",
    "**Code cell 3:**\n",
    "```python\n",
    "for i in range(5):\n",
    "    print(i)\n",
    "```\n",
    "\n",
    "Now, practice switching between the cells using your mouse and the keyboard shortcuts mentioned earlier.\n",
    "\n",
    "Click on the first cell with your mouse, then use the Down Arrow key or j to navigate to the second and third cells.\n",
    "Click on the third cell with your mouse, then use the Up Arrow key or k to navigate to the second and first cells.\n",
    "After practicing navigation, try running the cells in sequence by selecting the first cell and pressing Shift + Enter to execute the code and move to the next cell. Continue pressing Shift + Enter to execute all cells in order.\n",
    "\n",
    "By switching between code cells, you can easily modify and rerun parts of your code without affecting other cells. This allows for better organization and modularity in your Jupyter Notebooks.\n",
    "\n",
    "Remember that you can also use the a and b keyboard shortcuts to create new cells above or below the currently selected cell, and m, y, or r to convert cells between Markdown, code, and raw cell types."
   ],
   "metadata": {
    "collapsed": false
   }
  },
  {
   "cell_type": "markdown",
   "source": [
    "## Running Python Scripts from the Console and Jupyter\n",
    "\n",
    "In this section, we will learn how to run Python scripts from both the console and Jupyter Notebooks.\n",
    "\n",
    "### Running Python Scripts from the Console\n",
    "\n",
    "To run a Python script from the console, follow these steps:\n",
    "\n",
    "1. Create a Python script file (with a `.py` extension) using a text editor, like Notepad++ or Visual Studio Code, and save it in your project directory. For this example, create a file named `example_script.py` and add the following content:\n",
    "\n",
    "```python\n",
    "print(\"Hello from example_script.py!\")\n",
    "\n",
    "a = 7\n",
    "b = 5\n",
    "result = a * b\n",
    "\n",
    "print(f\"The result of {a} * {b} is {result}.\")\n",
    "```\n",
    "\n",
    "2. Open the terminal or command prompt (Anaconda Prompt on Windows).\n",
    "4. Navigate to the directory where you saved the Python script using the `cd` command.\n",
    "5. Run the script by typing `python example_script.py` and pressing `Enter`.\n",
    "6. The script will be executed, and the output will be displayed in the console.\n",
    "\n",
    "### Running Python Scripts in Jupyter Notebooks\n",
    "You can also run Python scripts within Jupyter Notebooks by using the %run magic command. Let's see how to do this:\n",
    "\n",
    "1. Create a new code cell in your Jupyter Notebook.\n",
    "2. Type `%run example_script.py` and press `Shift + Enter`.\n",
    "3. The script will be executed, and the output will be displayed below the cell.\n",
    "\n",
    "### Exercise: Create a Python script and execute it from console and Jupyter\n",
    "Now let's create an example that demonstrates running a Python script from the console and Jupyter.\n",
    "\n",
    "`example_script.py:`\n",
    "```python\n",
    "def greet(name):\n",
    "    print(f\"Hello, {name}!\")\n",
    "\n",
    "def multiply(a, b):\n",
    "    return a * b\n",
    "\n",
    "greet(\"John Doe\")\n",
    "result = multiply(7, 5)\n",
    "print(f\"The result of 7 * 5 is {result}.\")\n",
    "```\n",
    "Follow the steps described above to run the `example_script.py` script from the console and Jupyter Notebook. Observe the output in each case to ensure that the script is executed correctly.\n",
    "\n",
    "This example demonstrates how you can run Python scripts from both the console and Jupyter Notebooks, allowing you to choose the best method for your specific project or workflow.\n"
   ],
   "metadata": {
    "collapsed": false
   }
  }
 ],
 "metadata": {
  "kernelspec": {
   "display_name": "Python 3",
   "language": "python",
   "name": "python3"
  },
  "language_info": {
   "codemirror_mode": {
    "name": "ipython",
    "version": 2
   },
   "file_extension": ".py",
   "mimetype": "text/x-python",
   "name": "python",
   "nbconvert_exporter": "python",
   "pygments_lexer": "ipython2",
   "version": "2.7.6"
  }
 },
 "nbformat": 4,
 "nbformat_minor": 5
}
