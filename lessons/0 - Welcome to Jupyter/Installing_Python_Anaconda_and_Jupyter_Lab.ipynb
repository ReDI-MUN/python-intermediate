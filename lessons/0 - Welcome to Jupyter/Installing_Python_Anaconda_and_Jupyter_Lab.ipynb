{
 "cells": [
  {
   "cell_type": "markdown",
   "source": [
    "# Installing Python, Anaconda, and Jupyter Lab on Windows and macOS\n",
    "\n",
    "In this tutorial, we will guide you through the process of installing Python, Anaconda, and Jupyter Lab on Windows and macOS. We will also show you how to open Jupyter Lab from a project directory.\n",
    "\n",
    "## Installing Python\n",
    "\n",
    "Before installing Anaconda, which includes Jupyter Lab, you need to install Python. Follow the steps below for your operating system:\n",
    "\n",
    "### Windows\n",
    "\n",
    "1. Visit the official Python website: https://www.python.org/downloads/windows/\n",
    "2. Download the latest Python installer for Windows (choose the \"Windows x86-64 executable installer\" for 64-bit systems or \"Windows x86 executable installer\" for 32-bit systems).\n",
    "3. Run the installer and make sure to check the \"Add Python to PATH\" option before proceeding with the installation.\n",
    "4. Follow the installation prompts to complete the process.\n",
    "\n",
    "### macOS\n",
    "\n",
    "1. Visit the official Python website: https://www.python.org/downloads/macos/\n",
    "2. Download the latest Python installer for macOS (choose the \"macOS 64-bit Intel installer\" or \"macOS 64-bit universal2 installer\" depending on your system).\n",
    "3. Open the installer and follow the installation prompts to complete the process.\n",
    "\n",
    "## Installing Anaconda\n",
    "\n",
    "Anaconda is a popular distribution of Python and R for scientific computing and data science. It comes with Jupyter Lab, among other useful tools and packages. Follow these steps to install Anaconda:\n",
    "\n",
    "### Windows and macOS\n",
    "\n",
    "1. Visit the Anaconda distribution website: https://www.anaconda.com/products/distribution\n",
    "2. Download the Anaconda installer for your operating system (Windows or macOS).\n",
    "3. Run the installer and follow the installation prompts to complete the process.\n",
    "\n",
    "Note: During installation, you may be asked whether you want to install PyCharm for Anaconda. PyCharm is a powerful Python IDE, but it's not necessary for using Jupyter Lab. You can choose to install it or skip this step.\n",
    "\n",
    "## Opening Jupyter Lab from a Project Directory\n",
    "\n",
    "Once you have installed Python, Anaconda, and Jupyter Lab, you can open Jupyter Lab from a project directory by following these steps:\n",
    "\n",
    "### Windows\n",
    "\n",
    "1. Press the `Win` key, type \"Anaconda Prompt,\" and open the Anaconda Prompt.\n",
    "2. Use the `cd` command to navigate to your project directory, e.g., `cd C:\\Users\\YourUsername\\Documents\\MyProjects\\ProjectDirectory`\n",
    "3. Type `jupyter lab` and press Enter.\n",
    "\n",
    "Jupyter Lab will start and open in your default web browser, displaying the contents of your project directory.\n",
    "\n",
    "### macOS\n",
    "\n",
    "1. Open the Terminal app (you can find it in the Applications/Utilities folder or search for it using Spotlight).\n",
    "2. Use the `cd` command to navigate to your project directory, e.g., `cd /Users/YourUsername/Documents/MyProjects/ProjectDirectory`\n",
    "3. Type `jupyter lab` and press Enter.\n",
    "\n",
    "Jupyter Lab will start and open in your default web browser, displaying the contents of your project directory.\n",
    "\n",
    "That's it! You have now installed Python, Anaconda, and Jupyter Lab on your Windows or macOS system and learned how to open Jupyter Lab from a project directory. You can now create, open, and edit Jupyter Notebooks within your project directory to work on your data science or programming projects.\n",
    "\n",
    "Remember that you can create new Jupyter Notebooks by clicking the \"Python 3\" or \"R\" icon under the \"Notebook\" section in the Jupyter Lab Launcher. Additionally, you can open existing notebooks by navigating to the file in the left sidebar and double-clicking on it.\n",
    "\n",
    "Happy coding!\n"
   ],
   "metadata": {
    "collapsed": false
   }
  }
 ],
 "metadata": {
  "kernelspec": {
   "display_name": "Python 3",
   "language": "python",
   "name": "python3"
  },
  "language_info": {
   "codemirror_mode": {
    "name": "ipython",
    "version": 2
   },
   "file_extension": ".py",
   "mimetype": "text/x-python",
   "name": "python",
   "nbconvert_exporter": "python",
   "pygments_lexer": "ipython2",
   "version": "2.7.6"
  }
 },
 "nbformat": 4,
 "nbformat_minor": 5
}
