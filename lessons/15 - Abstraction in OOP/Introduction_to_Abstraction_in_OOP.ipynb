{
 "cells": [
  {
   "cell_type": "markdown",
   "source": [
    "## Introduction to Abstraction in OOP\n",
    "\n",
    "Abstraction is an important concept in object-oriented programming (OOP). It involves representing complex real-world entities as simpler, more abstract models that capture the essential characteristics of those entities. This helps to simplify the code and make it more modular, reusable, and maintainable.\n",
    "\n",
    "In this notebook, we will explore abstraction in OOP using Python. Specifically, we will look at how to use abstract classes and methods to implement abstraction in Python.\n",
    "\n",
    "### Abstract Classes\n",
    "\n",
    "An abstract class is a class that cannot be instantiated on its own. It is used as a base class for other classes to inherit from, and it contains one or more abstract methods that the inheriting classes must implement. Abstract classes are used to define a set of common behaviors that all the inheriting classes must adhere to.\n",
    "\n",
    "To create an abstract class in Python, we use the `abc` module, which provides a `ABC` (Abstract Base Class) class that we can inherit from. Here is an example of an abstract class `Animal` that has an abstract method `make_sound()`:"
   ],
   "metadata": {
    "collapsed": false
   }
  },
  {
   "cell_type": "code",
   "execution_count": 1,
   "outputs": [],
   "source": [
    "import abc\n",
    "\n",
    "class Animal(abc.ABC):\n",
    "    def __init__(self, age = 0):\n",
    "        self.age = age\n",
    "\n",
    "    @abc.abstractmethod\n",
    "    def make_sound(self):\n",
    "        pass\n"
   ],
   "metadata": {
    "collapsed": false
   }
  },
  {
   "cell_type": "markdown",
   "source": [
    "Note that the `make_sound()` method is marked as abstract using the `@abc.abstractmethod` decorator. This means that any class that inherits from Animal must implement this method."
   ],
   "metadata": {
    "collapsed": false
   }
  },
  {
   "cell_type": "markdown",
   "source": [
    "## Abstract Methods\n",
    "An abstract method is a method that is declared in an abstract class but has no implementation. It is used to define a method signature that the inheriting classes must implement. Abstract methods are marked with the `@abc.abstractmethod` decorator, as we saw in the previous example.\n",
    "\n",
    "Here is an example of a class `Dog` that inherits from Animal and implements the `make_sound()` method:"
   ],
   "metadata": {
    "collapsed": false
   }
  },
  {
   "cell_type": "code",
   "execution_count": 2,
   "outputs": [],
   "source": [
    "class Dog(Animal):\n",
    "    def make_sound(self):\n",
    "        print('Woof!')\n"
   ],
   "metadata": {
    "collapsed": false
   }
  },
  {
   "cell_type": "markdown",
   "source": [
    "The Dog class implements the `make_sound()` method, as required by the `Animal` abstract class. We can create a `Dog` object and call the `make_sound()` method:"
   ],
   "metadata": {
    "collapsed": false
   }
  },
  {
   "cell_type": "code",
   "execution_count": 3,
   "outputs": [
    {
     "name": "stdout",
     "output_type": "stream",
     "text": [
      "Woof!\n"
     ]
    }
   ],
   "source": [
    "dog = Dog()\n",
    "dog.make_sound()  # output: \"Woof!\""
   ],
   "metadata": {
    "collapsed": false
   }
  },
  {
   "cell_type": "markdown",
   "source": [
    "## Conclusion\n",
    "Abstraction is a powerful tool in OOP that allows us to represent complex real-world entities in a simpler, more abstract way. It helps to make our code more modular, reusable, and maintainable. In this notebook, we have seen how to use abstract classes and methods to implement abstraction in Python."
   ],
   "metadata": {
    "collapsed": false
   }
  },
  {
   "cell_type": "markdown",
   "source": [
    "## Exercise 1\n",
    "\n",
    " 1. Create a new class `Cat` that inherits from `Animal` and implements the `make_sound()` method to output \"Meow!\".\n",
    " 2. Create a new class `Horse` that inherits from `Animal` and implements the `make_sound()` method to output \"Neigh!\".\n",
    " 3. Create a `for` loop that calls `make_sound()` on all animals."
   ],
   "metadata": {
    "collapsed": false
   }
  },
  {
   "cell_type": "code",
   "execution_count": null,
   "outputs": [],
   "source": [
    "pass"
   ],
   "metadata": {
    "collapsed": false
   }
  },
  {
   "cell_type": "markdown",
   "source": [
    "# Exercise 2\n",
    "\n",
    "Fill in the code to make it functional."
   ],
   "metadata": {
    "collapsed": false
   }
  },
  {
   "cell_type": "code",
   "execution_count": null,
   "outputs": [],
   "source": [
    "import abc\n",
    "\n",
    "class Shape(abc.ABC):\n",
    "    @abc.abstractmethod\n",
    "    def area(self):\n",
    "        pass\n",
    "\n",
    "class Circle(Shape):\n",
    "    pass\n",
    "\n",
    "class Rectangle(Shape):\n",
    "    pass\n",
    "\n",
    "class Triangle(Shape):\n",
    "    pass\n"
   ],
   "metadata": {
    "collapsed": false
   }
  },
  {
   "cell_type": "code",
   "execution_count": null,
   "outputs": [],
   "source": [
    "# 1. Create a new Circle object with a radius of 5 and print its area\n",
    "circle = Circle(5)\n",
    "print(f\"The area of the circle is {circle.area()}\")\n",
    "\n",
    "# 2. Create a new Rectangle object with a length of 4 and a width of 5 and print its area\n",
    "rectangle = Rectangle(4, 5)\n",
    "print(f\"The area of the rectangle is {rectangle.area()}\")\n",
    "\n",
    "# 3. Create a new Triangle object with a base of 3 and a height of 6 and print its area\n",
    "triangle = Triangle(3, 6)\n",
    "print(f\"The area of the triangle is {triangle.area()}\")\n",
    "\n",
    "# 4. Create a new list of Shape objects that contains the Circle, Rectangle, and Triangle objects you created above\n",
    "shapes = [circle, rectangle, triangle]\n",
    "\n",
    "# 5. Loop through the list of Shape objects and print the area of each shape\n",
    "for shape in shapes:\n",
    "    print(f\"The area of the shape is {shape.area()}\")"
   ],
   "metadata": {
    "collapsed": false
   }
  }
 ],
 "metadata": {
  "kernelspec": {
   "display_name": "Python 3",
   "language": "python",
   "name": "python3"
  },
  "language_info": {
   "codemirror_mode": {
    "name": "ipython",
    "version": 2
   },
   "file_extension": ".py",
   "mimetype": "text/x-python",
   "name": "python",
   "nbconvert_exporter": "python",
   "pygments_lexer": "ipython2",
   "version": "2.7.6"
  }
 },
 "nbformat": 4,
 "nbformat_minor": 0
}
