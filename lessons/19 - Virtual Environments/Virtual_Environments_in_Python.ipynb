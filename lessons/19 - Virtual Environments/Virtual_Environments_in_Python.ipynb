{
 "cells": [
  {
   "cell_type": "markdown",
   "source": [
    "# Virtual Environments in Python"
   ],
   "metadata": {
    "collapsed": false
   }
  },
  {
   "cell_type": "markdown",
   "source": [
    "## Introduction to Virtual Environments\n",
    "Virtual environments are isolated environments where you can install packages for a specific project without affecting your global Python installation. This is an important tool for Python developers as it allows them to work on multiple projects with different dependencies at the same time."
   ],
   "metadata": {
    "collapsed": false
   }
  },
  {
   "cell_type": "markdown",
   "source": [
    "## Why Use Virtual Environments\n",
    "Virtual environments allow you to manage Python dependencies on a per-project basis. This is useful in scenarios where different projects require different versions of packages or even different versions of Python itself. By using virtual environments, you can ensure that the packages installed for one project do not interfere with the packages installed for another."
   ],
   "metadata": {
    "collapsed": false
   }
  },
  {
   "cell_type": "markdown",
   "source": [
    "## Installing pyenv and virtualenv\n",
    "`pyenv` is a tool that allows you to manage multiple versions of Python, while `virtualenv` is a tool for creating isolated Python environments. Here's how to install them:\n",
    "\n",
    "On MacOS, you can use Homebrew:\n",
    "\n",
    "```bash\n",
    "brew update\n",
    "brew install pyenv\n",
    "```\n",
    "On Ubuntu, you can use `apt`:\n",
    "\n",
    "```bash\n",
    "sudo apt update\n",
    "sudo apt install -y make build-essential libssl-dev zlib1g-dev libbz2-dev \\\n",
    "libreadline-dev libsqlite3-dev wget curl llvm libncurses5-dev libncursesw5-dev \\\n",
    "xz-utils tk-dev libffi-dev liblzma-dev python-openssl git\n",
    "curl https://pyenv.run | bash\n",
    "```\n",
    "\n",
    "On Windows, you can use `pyenv-win`:\n",
    "```bash\n",
    "pip install pyenv-win\n",
    "```"
   ],
   "metadata": {
    "collapsed": false
   }
  },
  {
   "cell_type": "markdown",
   "source": [
    "For other platforms, refer to the official [pyenv-installer](https://github.com/pyenv/pyenv-installer).\n",
    "\n",
    "To install `virtualenv`, you can use `pip`:\n",
    "```bash\n",
    "pip install virtualenv\n",
    "```"
   ],
   "metadata": {
    "collapsed": false
   }
  },
  {
   "cell_type": "markdown",
   "source": [
    "```ascii\n",
    "-----------------------\n",
    "| Global Python Env   |\n",
    "| --------------------|\n",
    "| | Python Interpreter |\n",
    "| | Package A V1.x    |\n",
    "| | Package B V2.x    |\n",
    "| | Package C V3.x    |\n",
    "| --------------------|\n",
    "-----------------------\n",
    "         | |\n",
    "         | |\n",
    "         | |\n",
    "-----------------------     ------------------------\n",
    "| Virtual Python Env 1|     | Virtual Python Env 2 |\n",
    "| --------------------|     | --------------------|\n",
    "| | Python Interpreter |     | Python Interpreter |\n",
    "| | Package A V2.x    |     | Package A V1.x    |\n",
    "| | Package B V1.x    |     | Package C V2.x    |\n",
    "| --------------------|     | --------------------|\n",
    "-----------------------     ------------------------\n",
    "```\n",
    "\n",
    "In the diagram above, the \"Global Python Env\" represents the default Python environment. Each \"Virtual Python Env\" is an isolated environment with its own Python interpreter and packages, separate from the global environment and other virtual environments. As you can see, different environments can have different versions of the same package installed, allowing you to manage dependencies on a per-project basis."
   ],
   "metadata": {
    "collapsed": false
   }
  },
  {
   "cell_type": "markdown",
   "source": [
    "`pyenv` and `virtualenv` are two different tools that serve related but distinct purposes in Python development. Here's how they relate to each other:\n",
    "\n",
    "1.  **`pyenv`:** This is a tool that lets you easily switch between multiple versions of Python. It provides access to different Python interpreters (like CPython, PyPy, etc.) and various versions of these interpreters. `pyenv` works by modifying the `PATH` environment variable to point to the Python version you've selected to use.\n",
    "\n",
    "2.  **`virtualenv`:** This is a tool that lets you create isolated Python environments. Each `virtualenv` has its own Python binaries (which are linked back to the version of Python `virtualenv` was created with) and can have its own independent set of installed Python packages. This allows you to have multiple isolated Python environments on the same computer, each potentially using different versions of packages, without conflicts.\n",
    "\n",
    "\n",
    "The relationship between `pyenv` and `virtualenv` is thus one of complementarity:\n",
    "\n",
    "*   You'd use `pyenv` to install and switch between different versions of Python itself.\n",
    "*   You'd use `virtualenv` to create isolated environments for Python projects, so that you can use different sets of packages (and even different versions of those packages) in different projects.\n",
    "\n",
    "There is also a plugin called `pyenv-virtualenv` which combines `pyenv` and `virtualenv` capabilities in a seamless way, allowing you to create virtual environments with different Python versions easily."
   ],
   "metadata": {
    "collapsed": false
   }
  },
  {
   "cell_type": "markdown",
   "source": [
    "\n",
    "To install `pyenv-virtualenv`, you need to have `pyenv` installed on your system. Here's how to install `pyenv-virtualenv`:\n",
    "\n",
    "**On MacOS:**\n",
    "If you've installed `pyenv` using `Homebrew`, you can install `pyenv-virtualenv` using the same:\n",
    "\n",
    "```bash\n",
    "brew install pyenv-virtualenv\n",
    "```\n",
    "\n",
    "**On Ubuntu:**\n",
    "If you've installed `pyenv` manually, you can clone the `pyenv-virtualenv` repository into the `(pyenv root)/plugins`` directory:\n",
    "`\n",
    "\n",
    "```bash\n",
    "git clone https://github.com/pyenv/pyenv-virtualenv.git $(pyenv root)/plugins/pyenv-virtualenv\n",
    "```\n"
   ],
   "metadata": {
    "collapsed": false
   }
  },
  {
   "cell_type": "markdown",
   "source": [
    "## Using pyenv and virtualenv\n",
    "\n",
    "Once you've installed `pyenv` and `virtualenv`, you can use them to create a virtual environment with a specific version of Python.\n",
    "\n",
    "First, install the desired version of Python using `pyenv`:\n",
    "\n",
    "```bash\n",
    "pyenv install --list  # List all available versions\n",
    "pyenv install 3.10.6\n",
    "```\n",
    "\n",
    "Then, you can create a virtual environment with that version of Python:\n",
    "\n",
    "```bash\n",
    "pyenv virtualenv  3.10.6 redi\n",
    "```\n",
    "To activate the virtual environment, you run:\n",
    "\n",
    "```bash\n",
    "pyenv activate redi\n",
    "pyenv which python  # Get path to python\n",
    "pyenv which pip  # Get path to pip\n",
    "```\n",
    "\n",
    "To deactivate the virtual environment, you simply run:\n",
    "\n",
    "```bash\n",
    "deactivate\n",
    "```"
   ],
   "metadata": {
    "collapsed": false
   }
  },
  {
   "cell_type": "markdown",
   "source": [
    "\n",
    "## Working with Packages in a Virtual Environment\n",
    "\n",
    "After activating your virtual environment, you can use `pip` to install, upgrade, and uninstall Python packages without affecting other projects or your global Python installation. For example, to install a package, you can run:\n",
    "```bash\n",
    "pip install package-name\n",
    "```\n",
    "\n",
    "## Sharing Virtual Environments\n",
    "\n",
    "When working on a project with other people, it's important to ensure that everyone is using the same environment. This can be done by including a `.python-version` file and a `requirements.txt` file in your project.\n",
    "\n",
    "The `.python-version` file specifies the version of Python that should be used. For example, it might look like this:\n",
    "\n",
    "```python\n",
    "3.8.2\n",
    "```\n",
    "\n",
    "The `requirements.txt` file lists all of the Python packages that need to be installed. Each line of the file is a package name followed by `==` and the version number. For example:\n",
    "\n",
    "```python\n",
    "numpy==1.18.1\n",
    "pandas==1.0.1\n",
    "scipy==1.4.1\n",
    "```\n",
    "\n",
    "This file can created using the following commands:\n",
    "```bash\n",
    "pip freeze > requirements.txt\n",
    "```\n",
    "\n",
    "Someone else who wants to work on the project can create the same environment by running:\n",
    "\n",
    "\n",
    "```bash\n",
    "pyenv install 3.10.6\n",
    "virtualenv -p ~/.pyenv/versions/3.8.2/bin/python my_env\n",
    "source my_env/bin/activate\n",
    "pip install -r requirements.txt\n",
    "```\n"
   ],
   "metadata": {
    "collapsed": false
   }
  },
  {
   "cell_type": "markdown",
   "source": [
    "# Conclusion\n",
    "\n",
    "Virtual environments are a crucial part of Python development and can save you from a lot of headaches dealing with package dependencies and versioning. By using tools like `pyenv` and `virtualenv`, you can ensure that your projects are isolated and reproducible.\n",
    "\n"
   ],
   "metadata": {
    "collapsed": false
   }
  }
 ],
 "metadata": {
  "kernelspec": {
   "display_name": "Python 3",
   "language": "python",
   "name": "python3"
  },
  "language_info": {
   "codemirror_mode": {
    "name": "ipython",
    "version": 2
   },
   "file_extension": ".py",
   "mimetype": "text/x-python",
   "name": "python",
   "nbconvert_exporter": "python",
   "pygments_lexer": "ipython2",
   "version": "2.7.6"
  }
 },
 "nbformat": 4,
 "nbformat_minor": 0
}
