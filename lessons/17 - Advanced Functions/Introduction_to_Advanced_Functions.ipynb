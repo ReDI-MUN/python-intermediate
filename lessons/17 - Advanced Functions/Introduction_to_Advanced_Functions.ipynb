{
 "cells": [
  {
   "cell_type": "markdown",
   "source": [
    "# Introduction to Advanced Functions\n",
    "\n",
    "In Python, functions are a fundamental building block for organizing and reusing code. They allow you to encapsulate a sequence of instructions into a single block, which can be invoked multiple times with different inputs. Python also provides advanced features for creating functions, enabling you to write more flexible and powerful code."
   ],
   "metadata": {
    "collapsed": false
   }
  },
  {
   "cell_type": "markdown",
   "source": [
    "## 1. Lambda Functions\n",
    "\n",
    "Lambda functions, also known as anonymous functions, are small, single-expression functions that don't require a def statement or a return statement. They are typically used in scenarios where a small, inline function is needed. Lambda functions can take any number of arguments but can only have a single expression.\n",
    "\n",
    "Here's an example of a lambda function that calculates the square of a number:"
   ],
   "metadata": {
    "collapsed": false
   }
  },
  {
   "cell_type": "code",
   "execution_count": 18,
   "outputs": [
    {
     "name": "stdout",
     "output_type": "stream",
     "text": [
      "25\n",
      "50\n"
     ]
    },
    {
     "data": {
      "text/plain": "100"
     },
     "execution_count": 18,
     "metadata": {},
     "output_type": "execute_result"
    }
   ],
   "source": [
    "square = lambda x: x ** 2\n",
    "print(square(5))  # Output: 25\n",
    "area = lambda width, height: width * height\n",
    "five_by_ten_rect = area(10, 5)\n",
    "print(five_by_ten_rect)\n",
    "\n",
    "class MyClass:\n",
    "    def __init__(self):\n",
    "        self.area = lambda width, height: width * height\n",
    "\n",
    "my_class = MyClass()\n",
    "my_class.area(10, 10)"
   ],
   "metadata": {
    "collapsed": false
   }
  },
  {
   "cell_type": "markdown",
   "source": [
    "Lambda functions are often used in conjunction with built-in functions like `map()`, `filter()`, and `reduce()` to create concise and readable code."
   ],
   "metadata": {
    "collapsed": false
   }
  },
  {
   "cell_type": "markdown",
   "source": [
    "## 2. Variable Arguments Functions\n",
    "\n",
    "Python allows you to define functions that can accept a variable number of arguments. This flexibility is useful when you don't know in advance how many arguments will be passed to a function. There are two ways to define variable arguments functions in Python: \\*args and \\*\\*kwargs."
   ],
   "metadata": {
    "collapsed": false
   }
  },
  {
   "cell_type": "markdown",
   "source": [
    "### \\*args: Variable Positional Arguments\n",
    "\n",
    "The \\*args syntax allows a function to accept an arbitrary number of positional arguments. The arguments passed using \\*args are collected into a tuple within the function. The \\*args parameter must be the last one in the function signature, as it collects all the remaining positional arguments.\n",
    "\n",
    "Here's an example of a function that accepts variable positional arguments:"
   ],
   "metadata": {
    "collapsed": false
   }
  },
  {
   "cell_type": "code",
   "execution_count": 16,
   "outputs": [
    {
     "name": "stdout",
     "output_type": "stream",
     "text": [
      "('Hello', ' ', 'World')\n",
      "Hello World\n",
      "('Python', ' ', 'is', ' ', 'awesome')\n",
      "Python is awesome\n"
     ]
    }
   ],
   "source": [
    "from typing import List\n",
    "\n",
    "def concatenate(*args: str):\n",
    "    result = \"\"\n",
    "    print(args)\n",
    "    for arg in args:\n",
    "        result += arg\n",
    "    return result\n",
    "\n",
    "print(concatenate(\"Hello\", \" \", \"World\"))\n",
    "print(concatenate(\"Python\", \" \", \"is\", \" \", \"awesome\"))"
   ],
   "metadata": {
    "collapsed": false
   }
  },
  {
   "cell_type": "markdown",
   "source": [
    "In this example, the `concatenate` function can accept any number of positional arguments, which are concatenated into a single string."
   ],
   "metadata": {
    "collapsed": false
   }
  },
  {
   "cell_type": "markdown",
   "source": [
    "### \\*\\*kwargs: Variable Keyword Arguments\n",
    "\n",
    "The \\*\\*kwargs syntax allows a function to accept an arbitrary number of keyword arguments. The arguments passed using \\*\\*kwargs are collected into a dictionary within the function. The \\*\\*kwargs parameter must also be the last one in the function signature.\n",
    "\n",
    "Here's an example of a function that accepts variable keyword arguments:"
   ],
   "metadata": {
    "collapsed": false
   }
  },
  {
   "cell_type": "code",
   "execution_count": 14,
   "outputs": [
    {
     "name": "stdout",
     "output_type": "stream",
     "text": [
      "name: John\n",
      "city: New York\n",
      "age: 30\n"
     ]
    }
   ],
   "source": [
    "def print_person(**kwargs):\n",
    "    for key, value in kwargs.items():\n",
    "        print(f\"{key}: {value}\")\n",
    "\n",
    "print_person(name=\"John\", city=\"New York\", age=30)"
   ],
   "metadata": {
    "collapsed": false
   }
  },
  {
   "cell_type": "markdown",
   "source": [
    "In this example, the `print_person` function can accept any number of keyword arguments, which are printed as key-value pairs."
   ],
   "metadata": {
    "collapsed": false
   }
  },
  {
   "cell_type": "markdown",
   "source": [
    "### Combining \\*args and \\*\\*kwargs\n",
    "\n",
    "You can also combine \\*args and \\*\\*kwargs in a function signature to create a function that accepts both positional and keyword arguments.\n",
    "\n",
    "Here's an example:"
   ],
   "metadata": {
    "collapsed": false
   }
  },
  {
   "cell_type": "code",
   "execution_count": 20,
   "outputs": [
    {
     "name": "stdout",
     "output_type": "stream",
     "text": [
      "Positional arguments:\n",
      "apple\n",
      "banana\n",
      "orange\n",
      "\n",
      "Keyword arguments:\n",
      "hello: world\n"
     ]
    }
   ],
   "source": [
    "def process_data(*args, **kwargs):\n",
    "    print(\"Positional arguments:\")\n",
    "    for arg in args:\n",
    "        print(arg)\n",
    "\n",
    "    print(\"\\nKeyword arguments:\")\n",
    "    for key, value in kwargs.items():\n",
    "        print(f\"{key}: {value}\")\n",
    "\n",
    "my_dict = {\n",
    "    'hello': 'world'\n",
    "}\n",
    "process_data(\"apple\", \"banana\", \"orange\", **my_dict)"
   ],
   "metadata": {
    "collapsed": false
   }
  },
  {
   "cell_type": "markdown",
   "source": [
    "In this example, the `process_data` function can accept any number of positional arguments and keyword arguments. The positional arguments are printed, and the keyword arguments are printed as key-value pairs.\n",
    "\n",
    "Variable arguments functions provide a flexible way to handle different argument scenarios, making your functions more versatile and adaptable."
   ],
   "metadata": {
    "collapsed": false
   }
  },
  {
   "cell_type": "markdown",
   "source": [
    "### Argument Unpacking\n",
    "\n",
    "Argument unpacking allows you to pass multiple values from a list or tuple as separate arguments to a function. It provides a concise way to expand an iterable into individual function arguments. You can use the **`*` operator** to unpack the arguments from a **list or tuple**, and the **`**` operator** to unpack keyword arguments from a **dictionary**."
   ],
   "metadata": {
    "collapsed": false
   }
  },
  {
   "cell_type": "code",
   "execution_count": 5,
   "outputs": [
    {
     "data": {
      "text/plain": "24"
     },
     "execution_count": 5,
     "metadata": {},
     "output_type": "execute_result"
    }
   ],
   "source": [
    "def multiply(a, b, c):\n",
    "    return a * b * c\n",
    "\n",
    "numbers = [2, 3, 4]  # a list\n",
    "multiply(*numbers)"
   ],
   "metadata": {
    "collapsed": false
   }
  },
  {
   "cell_type": "code",
   "execution_count": 6,
   "outputs": [
    {
     "data": {
      "text/plain": "6"
     },
     "execution_count": 6,
     "metadata": {},
     "output_type": "execute_result"
    }
   ],
   "source": [
    "def add(a, b, c):\n",
    "    return a + b + c\n",
    "\n",
    "values = (1, 2, 3)  # a tuple\n",
    "add(*values)"
   ],
   "metadata": {
    "collapsed": false
   }
  },
  {
   "cell_type": "code",
   "execution_count": 7,
   "outputs": [
    {
     "name": "stdout",
     "output_type": "stream",
     "text": [
      "Hello, John! You are 30 years old.\n"
     ]
    }
   ],
   "source": [
    "def greet(name, age):\n",
    "    print(f\"Hello, {name}! You are {age} years old.\")\n",
    "\n",
    "# a dictionary with identical keys\n",
    "person = {\"name\": \"John\", \"age\": 30}\n",
    "greet(**person)\n",
    "greet(name=person['name'], age=person['age'])"
   ],
   "metadata": {
    "collapsed": false
   }
  },
  {
   "cell_type": "markdown",
   "source": [
    "## 3. Decorators\n",
    "\n",
    "Decorators are a powerful feature in Python that allow you to modify the behavior of a function without changing its source code. They provide a way to wrap a function and extend its functionality. Decorators are implemented using the `@` symbol followed by the decorator function name, placed before the function to be decorated."
   ],
   "metadata": {
    "collapsed": false
   }
  },
  {
   "cell_type": "markdown",
   "source": [
    "### Creating a Decorator\n",
    "\n",
    "To create a decorator, you define a function that takes another function as an argument and returns a new function that usually enhances the behavior of the original function. Here's a basic example of a decorator:"
   ],
   "metadata": {
    "collapsed": false
   }
  },
  {
   "cell_type": "code",
   "execution_count": 21,
   "outputs": [
    {
     "name": "stdout",
     "output_type": "stream",
     "text": [
      "Before function execution\n",
      "Inside my_function\n",
      "After function execution\n"
     ]
    }
   ],
   "source": [
    "def decorator_function(func):\n",
    "    def wrapper():\n",
    "        # Code to be executed before the original function\n",
    "        print(\"Before function execution\")\n",
    "\n",
    "        # Call the original function\n",
    "        func()\n",
    "\n",
    "        # Code to be executed after the original function\n",
    "        print(\"After function execution\")\n",
    "\n",
    "    return wrapper\n",
    "\n",
    "@decorator_function\n",
    "\n",
    "def my_function():\n",
    "    print(\"Inside my_function\")\n",
    "\n",
    "# Call the decorated function\n",
    "my_function()"
   ],
   "metadata": {
    "collapsed": false
   }
  },
  {
   "cell_type": "markdown",
   "source": [
    "The `@decorator_function` syntax is used to apply the decorator to the `my_function` function. When `my_function` is called, it is actually the decorated version of the function that gets executed."
   ],
   "metadata": {
    "collapsed": false
   }
  },
  {
   "cell_type": "markdown",
   "source": [
    "### Common Use Cases\n",
    "\n",
    "Decorators have various practical use cases, including:\n",
    "\n",
    "*   **Logging**: Decorators can add logging functionality to functions, allowing you to track function calls, arguments, and return values.\n",
    "*   **Timing**: Decorators can measure the execution time of a function, helping you identify performance bottlenecks.\n",
    "*   **Authorization**: Decorators can enforce access control by checking user permissions before executing a function.\n",
    "*   **Caching**: Decorators can cache function results to improve performance by avoiding redundant computations."
   ],
   "metadata": {
    "collapsed": false
   }
  },
  {
   "cell_type": "markdown",
   "source": [
    "### Decorating Functions with Arguments\n",
    "\n",
    "If you want to decorate functions that accept arguments, you can use the `*args` and `**kwargs` syntax in the wrapper function. This allows the decorator to handle functions with any number and type of arguments. Here's an example:"
   ],
   "metadata": {
    "collapsed": false
   }
  },
  {
   "cell_type": "code",
   "execution_count": 24,
   "outputs": [
    {
     "name": "stdout",
     "output_type": "stream",
     "text": [
      "Before function execution\n",
      "a + b =  8\n",
      "After function execution\n"
     ]
    },
    {
     "data": {
      "text/plain": "8"
     },
     "execution_count": 24,
     "metadata": {},
     "output_type": "execute_result"
    }
   ],
   "source": [
    "def argument_decorator(func):\n",
    "    def wrapper(*args, **kwargs):\n",
    "        print(\"Before function execution\")\n",
    "\n",
    "        # Call the original function with its arguments\n",
    "        result = func(*args, **kwargs)\n",
    "\n",
    "        print(\"After function execution\")\n",
    "        return result\n",
    "\n",
    "    return wrapper\n",
    "\n",
    "@argument_decorator\n",
    "def add_numbers(a, b):\n",
    "    print('a + b = ', a+b)\n",
    "    return a + b\n",
    "\n",
    "add_numbers(3, 5)\n",
    "# print(add_numbers(3, 5))"
   ],
   "metadata": {
    "collapsed": false
   }
  },
  {
   "cell_type": "markdown",
   "source": [
    "\n",
    "In this example, the `argument_decorator` function defines the `wrapper` function to handle any arguments passed to the decorated function. The `*args` and `**kwargs` parameters in the wrapper allow it to receive and pass the arguments correctly."
   ],
   "metadata": {
    "collapsed": false
   }
  },
  {
   "cell_type": "markdown",
   "source": [
    "### Chaining Multiple Decorators\n",
    "\n",
    "You can apply multiple decorators to a single function by stacking them using the `@` syntax. When multiple decorators are applied, the order of execution is from bottom to top. Here's an example:"
   ],
   "metadata": {
    "collapsed": false
   }
  },
  {
   "cell_type": "code",
   "execution_count": 10,
   "outputs": [
    {
     "name": "stdout",
     "output_type": "stream",
     "text": [
      "Decorator 1\n",
      "Decorator 2\n",
      "Inside my_function\n"
     ]
    }
   ],
   "source": [
    "def decorator1(func):\n",
    "    def wrapper():\n",
    "        print(\"Decorator 1\")\n",
    "        func()\n",
    "    return wrapper\n",
    "\n",
    "def decorator2(func):\n",
    "    def wrapper():\n",
    "        print(\"Decorator 2\")\n",
    "        func()\n",
    "    return wrapper\n",
    "\n",
    "@decorator1\n",
    "@decorator2\n",
    "def my_function():\n",
    "    print(\"Inside my_function\")\n",
    "\n",
    "my_function()\n",
    "\n",
    "decorator1(decorator2(my_function))"
   ],
   "metadata": {
    "collapsed": false
   }
  },
  {
   "cell_type": "markdown",
   "source": [
    "Here's an example of a decorator that logs the execution time of a function:"
   ],
   "metadata": {
    "collapsed": false
   }
  },
  {
   "cell_type": "code",
   "execution_count": 25,
   "outputs": [
    {
     "name": "stdout",
     "output_type": "stream",
     "text": [
      "Function execution completed.\n",
      "Execution time: 2.0038790702819824 seconds\n"
     ]
    }
   ],
   "source": [
    "import time\n",
    "\n",
    "def timer_decorator(func):\n",
    "    def wrapper(*args, **kwargs):\n",
    "        print(f\"Before function time: {time.time()}\")\n",
    "        start_time = time.time()\n",
    "        result = func(*args, **kwargs)\n",
    "        end_time = time.time()\n",
    "        execution_time = end_time - start_time\n",
    "        print(f\"Execution time: {execution_time} seconds\")\n",
    "        return result\n",
    "    return wrapper\n",
    "\n",
    "@timer_decorator\n",
    "def my_function():\n",
    "    time.sleep(2)\n",
    "    print(\"Function execution completed.\")\n",
    "\n",
    "my_function()\n",
    "\n",
    "# Create a function that wraps my_function with decorator code.\n",
    "timed_my_function = timer_decorator(my_function)\n",
    "timed_my_function()"
   ],
   "metadata": {
    "collapsed": false
   }
  },
  {
   "cell_type": "markdown",
   "source": [
    "### Standard Decorators in Python\n",
    "\n",
    "Python provides several standard decorators that can be used to enhance the behavior of functions. These decorators are built-in and offer commonly used functionality. Some of the standard decorators in Python include:\n",
    "\n",
    "*   `@staticmethod`: Marks a method as a static method, which can be called on a class without requiring an instance of the class.\n",
    "*   `@classmethod`: Marks a method as a class method, which receives the class as the first argument instead of an instance.\n",
    "*   `@property`: Allows you to define a method as a property, providing a getter function for accessing a class attribute.\n",
    "*   `@abstractmethod`: Marks a method as an abstract method, which must be implemented by any concrete subclass.\n",
    "*   `@final`: Marks a class or method as final, indicating that it cannot be subclassed or overridden.\n",
    "\n",
    "To learn more about the standard decorators and their usage, you can refer to the [Python documentation on decorators](https://wiki.python.org/moin/Decorators) which provides detailed information on each decorator and how to use them effectively."
   ],
   "metadata": {
    "collapsed": false
   }
  },
  {
   "cell_type": "markdown",
   "source": [
    "## 4. Closures and High Order Functions\n",
    "\n",
    "In Python, closures are functions that remember and access values from their enclosing scope, even after that scope has finished executing. They combine the function with the variables it references, creating a self-contained unit of code. This allows closures to be passed around, executed later, and still retain access to the variables they \"closed over.\" When used with higher-order functions, which can accept or return functions, closures enable more flexible and concise coding techniques.\n",
    "\n",
    "Here's an example of a closure that demonstrates its behavior:"
   ],
   "metadata": {
    "collapsed": false
   }
  },
  {
   "cell_type": "code",
   "execution_count": 29,
   "outputs": [
    {
     "name": "stdout",
     "output_type": "stream",
     "text": [
      "25\n",
      "15\n",
      "30\n",
      "20\n",
      "25\n",
      "15\n"
     ]
    }
   ],
   "source": [
    "def outer_function(x):\n",
    "    def inner_function(y):\n",
    "        return x + y\n",
    "    return inner_function\n",
    "\n",
    "closure = outer_function(5)\n",
    "print(closure(20))\n",
    "print(closure(10))\n",
    "\n",
    "closure = outer_function(10)\n",
    "print(closure(20))\n",
    "print(closure(10))\n",
    "\n",
    "closure_m = lambda x: x + 5\n",
    "print(closure_m(20))\n",
    "print(closure_m(10))"
   ],
   "metadata": {
    "collapsed": false
   }
  },
  {
   "cell_type": "markdown",
   "source": [
    "### Higher-Order Functions\n",
    "\n",
    "Higher-order functions are functions that can take other functions as arguments and/or return functions as results. They allow you to encapsulate and abstract functionality, making your code more modular and reusable. Python provides several built-in higher-order functions, including `filter()`, `map()`, `reduce()`, `sort()`, `min()`, and `max()`."
   ],
   "metadata": {
    "collapsed": false
   }
  },
  {
   "cell_type": "code",
   "execution_count": 31,
   "outputs": [
    {
     "name": "stdout",
     "output_type": "stream",
     "text": [
      "[2, 4]\n",
      "[2, 4]\n",
      "[1, 4, 9, 16, 25]\n",
      "120\n",
      "[5, 4, 3, 2, 1]\n",
      "1 5\n"
     ]
    }
   ],
   "source": [
    "from functools import reduce\n",
    "\n",
    "# Example data\n",
    "numbers = [1, 2, 3, 4, 5]\n",
    "\n",
    "def is_even(x):\n",
    "    return x % 2 == 0\n",
    "\n",
    "# filter()\n",
    "even_numbers = list(filter(lambda x: x % 2 == 0, numbers))\n",
    "print(even_numbers)  # Output: [2, 4]\n",
    "even_numbers = list(filter(is_even, numbers))\n",
    "print(even_numbers)  # Output: [2, 4]\n",
    "\n",
    "# map()\n",
    "squared_numbers = list(map(lambda x: x**2, numbers))\n",
    "print(squared_numbers)  # Output: [1, 4, 9, 16, 25]\n",
    "\n",
    "# reduce()\n",
    "product = reduce(lambda x, y: x * y, numbers)\n",
    "print(product)  # Output: 120\n",
    "\n",
    "# sort()\n",
    "sorted_numbers = sorted(numbers, reverse=True)\n",
    "print(sorted_numbers)  # Output: [5, 4, 3, 2, 1]\n",
    "\n",
    "# min() and max()\n",
    "minimum = min(numbers)\n",
    "maximum = max(numbers)\n",
    "print(minimum, maximum)  # Output: 1 5"
   ],
   "metadata": {
    "collapsed": false
   }
  },
  {
   "cell_type": "markdown",
   "source": [
    "#### `filter()`\n",
    "\n",
    "The `filter()` function takes a function and an iterable as arguments and returns an iterator that yields elements from the iterable for which the function returns `True`. It filters out elements based on the provided function's logic."
   ],
   "metadata": {
    "collapsed": false
   }
  },
  {
   "cell_type": "code",
   "execution_count": 14,
   "outputs": [
    {
     "name": "stdout",
     "output_type": "stream",
     "text": [
      "[2, 4, 6, 8, 10]\n"
     ]
    }
   ],
   "source": [
    "def is_even(n):\n",
    "    return n % 2 == 0\n",
    "\n",
    "numbers = [1, 2, 3, 4, 5, 6, 7, 8, 9, 10]\n",
    "even_numbers = filter(is_even, numbers)\n",
    "\n",
    "print(list(even_numbers))"
   ],
   "metadata": {
    "collapsed": false
   }
  },
  {
   "cell_type": "markdown",
   "source": [
    "#### `map()`\n",
    "\n",
    "The `map()` function applies a given function to each item in an iterable and returns an iterator of the results. It transforms each element based on the logic defined in the provided function."
   ],
   "metadata": {
    "collapsed": false
   }
  },
  {
   "cell_type": "code",
   "execution_count": 15,
   "outputs": [
    {
     "name": "stdout",
     "output_type": "stream",
     "text": [
      "[1, 4, 9, 16, 25]\n"
     ]
    }
   ],
   "source": [
    "def square(n):\n",
    "    return n ** 2\n",
    "\n",
    "numbers = [1, 2, 3, 4, 5]\n",
    "squared_numbers = map(square, numbers)\n",
    "\n",
    "print(list(squared_numbers))"
   ],
   "metadata": {
    "collapsed": false
   }
  },
  {
   "cell_type": "markdown",
   "source": [
    "#### `reduce()`\n",
    "\n",
    "The `reduce()` function, which was previously available as a built-in function but now resides in the `functools` module, applies a function of two arguments cumulatively to the items of an iterable, from left to right, so as to reduce the iterable to a single value."
   ],
   "metadata": {
    "collapsed": false
   }
  },
  {
   "cell_type": "code",
   "execution_count": 16,
   "outputs": [
    {
     "name": "stdout",
     "output_type": "stream",
     "text": [
      "1 * 2 * 3 * 4 * 5 = 120\n",
      "120\n"
     ]
    }
   ],
   "source": [
    "from functools import reduce\n",
    "\n",
    "def multiply(a, b):\n",
    "    return a * b\n",
    "\n",
    "numbers = [1, 2, 3, 4, 5]\n",
    "product = reduce(multiply, numbers)\n",
    "\n",
    "print(f'1 * 2 * 3 * 4 * 5 = {1 * 2 * 3 * 4 * 5}')\n",
    "print(product)"
   ],
   "metadata": {
    "collapsed": false
   }
  },
  {
   "cell_type": "markdown",
   "source": [
    "\n",
    "#### `sort()`, `min()`, and `max()`\n",
    "\n",
    "The `sort()`, `min()`, and `max()` functions are higher-order functions that take an iterable as an argument and return the sorted iterable, the minimum value, and the maximum value, respectively. They can also accept a `key` parameter to define custom sorting or comparison logic."
   ],
   "metadata": {
    "collapsed": false
   }
  },
  {
   "cell_type": "code",
   "execution_count": 17,
   "outputs": [
    {
     "name": "stdout",
     "output_type": "stream",
     "text": [
      "[1, 2, 3, 4, 6]\n",
      "1\n",
      "6\n"
     ]
    }
   ],
   "source": [
    "numbers = [4, 2, 6, 1, 3]\n",
    "\n",
    "sorted_numbers = sorted(numbers)\n",
    "print(sorted_numbers)\n",
    "\n",
    "min_number = min(numbers)\n",
    "print(min_number)\n",
    "\n",
    "max_number = max(numbers)\n",
    "print(max_number)"
   ],
   "metadata": {
    "collapsed": false
   }
  },
  {
   "cell_type": "markdown",
   "source": [
    "## 5. Generator Functions\n",
    "\n",
    "In Python, generator functions are a special type of function that allows you to create iterators. They generate a sequence of values on-the-fly, rather than storing them in memory all at once. This makes generator functions memory-efficient and suitable for working with large or infinite sequences of data."
   ],
   "metadata": {
    "collapsed": false
   }
  },
  {
   "cell_type": "markdown",
   "source": [
    "### Creating a Generator Function\n",
    "\n",
    "A generator function is defined like a regular function, but instead of using the `return` statement, it uses the `yield` keyword to produce a series of values. Here's an example of a generator function that generates Fibonacci numbers:"
   ],
   "metadata": {
    "collapsed": false
   }
  },
  {
   "cell_type": "code",
   "execution_count": 18,
   "outputs": [],
   "source": [
    "def fibonacci_generator():\n",
    "    a, b = 0, 1\n",
    "    while True:\n",
    "        yield a\n",
    "        a, b = b, a + b"
   ],
   "metadata": {
    "collapsed": false
   }
  },
  {
   "cell_type": "markdown",
   "source": [
    "To use the generator function, you can iterate over it using a loop or call the `next()` function to get the next value:"
   ],
   "metadata": {
    "collapsed": false
   }
  },
  {
   "cell_type": "code",
   "execution_count": 19,
   "outputs": [
    {
     "name": "stdout",
     "output_type": "stream",
     "text": [
      "0\n",
      "1\n",
      "1\n",
      "2\n",
      "3\n",
      "5\n",
      "8\n",
      "13\n",
      "21\n",
      "34\n"
     ]
    }
   ],
   "source": [
    "fib = fibonacci_generator()\n",
    "\n",
    "for _ in range(10):\n",
    "    print(next(fib))"
   ],
   "metadata": {
    "collapsed": false
   }
  },
  {
   "cell_type": "markdown",
   "source": [
    "### Advantages of Generator Functions\n",
    "\n",
    "Generator functions offer several advantages:\n",
    "\n",
    "1.  **Lazy Evaluation**: Generator functions use lazy evaluation, generating values on-the-fly as they are needed. This allows for efficient memory usage, especially when dealing with large or infinite sequences.\n",
    "\n",
    "2.  **Iterability**: Generator functions create iterators, which can be easily iterated over using loops or other iterable methods. This simplifies the process of working with sequences of data.\n",
    "\n",
    "3.  **Pause and Resume**: Generator functions can be paused and resumed, allowing you to control the flow of data generation. They automatically save their internal state between iterations, enabling you to continue generating values from where you left off.\n",
    "\n",
    "4.  **Custom Sequences**: Generator functions allow you to create custom sequences of data with specific patterns or logic. You have full control over the values generated and can customize the behavior of the generator."
   ],
   "metadata": {
    "collapsed": false
   }
  },
  {
   "cell_type": "markdown",
   "source": [
    "Generator functions provide a powerful and flexible way to work with sequences of data in a memory-efficient manner. They offer a unique approach to generating and processing data, making them a valuable tool in many Python applications."
   ],
   "metadata": {
    "collapsed": false
   }
  },
  {
   "cell_type": "markdown",
   "source": [
    "### Exercise 1: Lambda Functions\n",
    "\n",
    "Write a lambda function to calculate the area of a rectangle. The lambda function should take two arguments, `length` and `width`, and return the area."
   ],
   "metadata": {
    "collapsed": false
   }
  },
  {
   "cell_type": "markdown",
   "source": [
    "### Exercise 2: Decorators\n",
    "\n",
    "Create a decorator function called `uppercase_decorator` that converts the result of a function to uppercase. Apply the decorator to the `greet` function to make the greeting uppercase."
   ],
   "metadata": {
    "collapsed": false
   }
  },
  {
   "cell_type": "markdown",
   "source": [
    "### Exercise 3: Closures\n",
    "\n",
    "Implement a closure that counts the number of times a function is called. The closure function should return the count."
   ],
   "metadata": {
    "collapsed": false
   }
  },
  {
   "cell_type": "markdown",
   "source": [],
   "metadata": {
    "collapsed": false
   }
  },
  {
   "cell_type": "markdown",
   "source": [],
   "metadata": {
    "collapsed": false
   }
  },
  {
   "cell_type": "markdown",
   "source": [],
   "metadata": {
    "collapsed": false
   }
  },
  {
   "cell_type": "markdown",
   "source": [],
   "metadata": {
    "collapsed": false
   }
  },
  {
   "cell_type": "markdown",
   "source": [
    "### Exercise 4: Generator Functions\n",
    "\n",
    "Write a generator function called `even_numbers` that generates even numbers starting from 2 and incrementing by 2. The function should generate a sequence of even numbers up to a given limit."
   ],
   "metadata": {
    "collapsed": false
   }
  }
 ],
 "metadata": {
  "kernelspec": {
   "display_name": "Python 3",
   "language": "python",
   "name": "python3"
  },
  "language_info": {
   "codemirror_mode": {
    "name": "ipython",
    "version": 2
   },
   "file_extension": ".py",
   "mimetype": "text/x-python",
   "name": "python",
   "nbconvert_exporter": "python",
   "pygments_lexer": "ipython2",
   "version": "2.7.6"
  }
 },
 "nbformat": 4,
 "nbformat_minor": 0
}
