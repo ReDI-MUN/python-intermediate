{
 "cells": [
  {
   "cell_type": "markdown",
   "source": [
    "# Introduction to Classes and Objects\n",
    "\n",
    "In this Jupyter notebook, we will explore Object-Oriented Programming (OOP). We will cover the basics of classes, objects, variables, and methods with a focus on different types of variables and methods, such as public/private and class/instance."
   ],
   "metadata": {
    "collapsed": false
   }
  },
  {
   "cell_type": "markdown",
   "source": [
    "## Classes and Objects\n",
    "\n",
    "A class is a blueprint for creating objects, while an object is an instance of a class. Let's create a simple class called `Person` and create an object of this class."
   ],
   "metadata": {
    "collapsed": false
   }
  },
  {
   "cell_type": "code",
   "execution_count": 1,
   "outputs": [
    {
     "name": "stdout",
     "output_type": "stream",
     "text": [
      "Alice 30\n",
      "Bob 45\n"
     ]
    }
   ],
   "source": [
    "class Person:\n",
    "    def __init__(self, name, age):\n",
    "        self.name = name\n",
    "        self.age = age\n",
    "\n",
    "# Create a Person object\n",
    "person1 = Person(\"Alice\", 30)\n",
    "person2 = Person(\"Bob\", 45)\n",
    "print(person1.name, person1.age)\n",
    "print(person2.name, person2.age)"
   ],
   "metadata": {
    "collapsed": false
   }
  },
  {
   "cell_type": "markdown",
   "source": [
    "## Variables\n",
    "In object-oriented programming, variables in a class are used to store data that is associated with objects of that class.\n",
    "\n",
    "In Python, variables can have different access modifiers: public, private, and protected. The access modifiers indicate the scope and visibility of variables within and outside the class.\n",
    "\n",
    "### Public Variables\n",
    "Public variables are accessible from any part of the code. In Python, there is no strict enforcement of public variables; they are usually denoted by their simple name.\n",
    "\n",
    "### Private Variables\n",
    "Private variables are meant to be accessed only from within the class. In Python, we use name mangling to denote private variables by prefixing them with two underscores `__`.\n",
    "\n",
    "### Protected Variables\n",
    "Protected variables are meant to be accessed within the class and its subclasses but can still be accessed outside the class if necessary. In Python, there is no strict enforcement of protected variables. They are denoted by prefixing the variable name with a single underscore `_`."
   ],
   "metadata": {
    "collapsed": false
   }
  },
  {
   "cell_type": "code",
   "execution_count": 2,
   "outputs": [
    {
     "name": "stdout",
     "output_type": "stream",
     "text": [
      "Brand: Toyota, Model: Camry, Wheels: 4\n",
      "0\n",
      "10000\n"
     ]
    }
   ],
   "source": [
    "class Vehicle:\n",
    "    # Public variable\n",
    "    num_wheels = 4\n",
    "\n",
    "    def __init__(self, brand, model):\n",
    "        # Protected variables\n",
    "        self._brand = brand\n",
    "        self._model = model\n",
    "        # Private variable\n",
    "        self.__mileage = 0\n",
    "\n",
    "    # Public method to access the private variable\n",
    "    def get_mileage(self):\n",
    "        return self.__mileage\n",
    "\n",
    "    # Public method to modify the private variable\n",
    "    def set_mileage(self, new_mileage):\n",
    "        if new_mileage >= 0:\n",
    "            self.__mileage = new_mileage\n",
    "        else:\n",
    "            print(\"Invalid mileage value\")\n",
    "\n",
    "class Car(Vehicle):\n",
    "    def print_details(self):\n",
    "        print(f\"Brand: {self._brand}, Model: {self._model}, Wheels: {self.num_wheels}\")\n",
    "\n",
    "car1 = Car(\"Toyota\", \"Camry\")\n",
    "car1.print_details()  # Output: Brand: Toyota, Model: Camry, Wheels: 4\n",
    "print(car1.get_mileage())  # Output: 0\n",
    "car1.set_mileage(10000)\n",
    "print(car1.get_mileage())  # Output: 10000"
   ],
   "metadata": {
    "collapsed": false
   }
  },
  {
   "cell_type": "markdown",
   "source": [
    "In this example, we have a Vehicle class with public, protected, and private variables. The `Car` class inherits from the `Vehicle` class and can access its protected variables. We have also provided public methods to access and modify the private variable `__mileage`."
   ],
   "metadata": {
    "collapsed": false
   }
  },
  {
   "cell_type": "markdown",
   "source": [
    "## Methods\n",
    "In object-oriented programming, methods of a class are used to define behaviors that are associated with objects of that class. Methods are similar to functions, but are defined within a class and can access the class's instance variables and other methods.\n",
    "\n",
    "In Python, methods can have different access modifiers: public, private, and protected. Additionally, there are special types of methods, such as class methods and static methods.\n",
    "\n",
    "### Public Methods\n",
    "Public methods are accessible from any part of the code. In Python, there is no strict enforcement of public methods; they are usually denoted by their simple name.\n",
    "\n",
    "### Private Methods\n",
    "Private methods are meant to be accessed only from within the class. In Python, we use name mangling to denote private methods by prefixing them with two underscores `__`.\n",
    "\n",
    "### Protected Methods\n",
    "Protected methods are meant to be accessed within the class and its subclasses but can still be accessed outside the class if necessary. In Python, there is no strict enforcement of protected methods. They are denoted by prefixing the method name with a single underscore `_`.\n",
    "\n",
    "### Static Methods\n",
    "Static methods are methods that belong to a class rather than an instance and don't have access to instance or class variables. They are independent of the class's state and are defined using the `@staticmethod` decorator. Static methods are useful when you have a utility function that doesn't depend on the state of the class or its instances. Since static methods don't require an instance of the class, they can be called on the class itself, rather than an object of the class.\n",
    "\n",
    "### Class Methods\n",
    "Class methods are methods that are bound to the class and not the instance. They can access and modify class-level variables, and they take a reference to the class itself as their first argument, typically named cls. Class methods are defined using the `@classmethod` decorator. These methods are useful when you want to perform an action that is related to the class, rather than a specific instance. Like static methods, class methods can also be called on the class itself without creating an instance of the class."
   ],
   "metadata": {
    "collapsed": false
   }
  },
  {
   "cell_type": "code",
   "execution_count": 3,
   "outputs": [
    {
     "name": "stdout",
     "output_type": "stream",
     "text": [
      "Alice\n",
      "5000.0\n",
      "2\n",
      "True\n"
     ]
    }
   ],
   "source": [
    "class Employee:\n",
    "    _num_employees = 0  # Protected class variable\n",
    "\n",
    "    def __init__(self, name, salary):\n",
    "        self.name = name\n",
    "        self._salary = salary  # Protected instance variable\n",
    "        Employee._num_employees += 1\n",
    "\n",
    "    # Public method\n",
    "    def get_name(self):\n",
    "        return self.name\n",
    "\n",
    "    # Protected method\n",
    "    def _calculate_bonus(self):\n",
    "        return self.__bonus_formula(self._salary)\n",
    "\n",
    "    # Private method\n",
    "    def __bonus_formula(self, salary):\n",
    "        return salary * 0.1\n",
    "\n",
    "    # Class method\n",
    "    @classmethod\n",
    "    def get_num_employees(cls):\n",
    "        return cls._num_employees\n",
    "\n",
    "    # Static method\n",
    "    @staticmethod\n",
    "    def is_working_day(day):\n",
    "        return day.weekday() not in (5, 6)\n",
    "\n",
    "class Manager(Employee):\n",
    "    def __init__(self, name, salary, department):\n",
    "        super().__init__(name, salary)\n",
    "        self.department = department\n",
    "\n",
    "    # Overriding the protected method\n",
    "    def _calculate_bonus(self):\n",
    "        return self.__bonus_formula(self._salary) * 2\n",
    "\n",
    "employee1 = Employee(\"Alice\", 50000)\n",
    "manager1 = Manager(\"Bob\", 70000, \"Engineering\")\n",
    "\n",
    "print(employee1.get_name())  # Output: Alice\n",
    "print(employee1._calculate_bonus())  # Output: 5000.0\n",
    "print(Employee.get_num_employees())  # Output: 2\n",
    "\n",
    "import datetime\n",
    "today = datetime.date.today()\n",
    "print(Employee.is_working_day(today))  # Output: True/False, depending on the day"
   ],
   "metadata": {
    "collapsed": false
   }
  },
  {
   "cell_type": "markdown",
   "source": [
    "# Conclusion\n",
    "\n",
    "In this Jupyter notebook, we have introduced the basics of Object-Oriented Programming in Python. We have covered classes, objects, variables, methods, and special methods. Now you should have a good understanding of how to work with classes and objects in Python and how to use different types of variables and methods to achieve different levels of access and functionality."
   ],
   "metadata": {
    "collapsed": false
   }
  },
  {
   "cell_type": "markdown",
   "source": [
    "This table summarizes the access modifiers in Python for both variables and methods.\n",
    "\n",
    "| Access Modifier | Description                                                                                               | Naming Convention                   | Access within the class | Access within subclasses | Access outside the class     |\n",
    "|-----------------|-----------------------------------------------------------------------------------------------------------|-------------------------------------|-------------------------|--------------------------|------------------------------|\n",
    "| Public          | Accessible from any part of the code.                                                                     | No prefix                           | Yes                     | Yes                      | Yes                          |\n",
    "| Private         | Accessible only from within the class.                                                                    | Prefix with two underscores `__`    | Yes                     | No                       | No                           |\n",
    "| Protected       | Accessible within the class and its subclasses, but can still be accessed outside the class if necessary. | Prefix with a single underscore `_` | Yes                     | Yes                      | Allowed, but not recommended |\n"
   ],
   "metadata": {
    "collapsed": false
   }
  },
  {
   "cell_type": "markdown",
   "source": [
    "# Exercise\n",
    "\n",
    "1.  Define a `BankAccount` class with the following methods and properties:\n",
    "\n",
    "    *   `__init__(self, balance=0)`: Initializes a bank account with a starting balance.\n",
    "    *   `deposit(self, amount)`: Adds `amount` to the account balance.\n",
    "    *   `withdraw(self, amount)`: Subtracts `amount` from the account balance.\n",
    "    *   `__str__(self)`: Returns a string representation of the account balance.\n",
    "    *   `MIN_BALANCE`: A class property representing the minimum balance required to keep the account open.\n",
    "    *   `BANK_NAME`: A static property representing the name of the bank associated with the account.\n",
    "2.  Define a `Bank` class with the following methods and properties:\n",
    "\n",
    "    *   `__init__(self, name)`: Initializes a bank with a given name.\n",
    "    *   `open_account(self, name, balance=0)`: Opens a bank account with a given name and starting balance.\n",
    "    *   `close_account(self, name)`: Closes the account with the given name.\n",
    "    *   `transfer(self, from_name, to_name, amount, to_bank)`: Transfers `amount` from the account with `from_name` to the account with `to_name` at another bank `to_bank`.\n",
    "    *   `__str__(self)`: Returns a string representation of the bank and its accounts.\n",
    "    *   `MAX_ACCOUNTS`: A class property representing the maximum number of accounts that can be opened at the bank.\n",
    "    *   `BANKS_LIST`: A class variable containing a list of all banks that have been created.\n",
    "3.  Create a bank with a given name.\n",
    "\n",
    "4.  Open accounts for several individuals at the bank.\n",
    "\n",
    "5.  Transfer money between accounts.\n",
    "\n",
    "6.  Close one or more accounts.\n",
    "\n",
    "7.  Print out the total balance of all accounts at the bank.\n",
    "\n",
    "8.  Print out a list of all banks that have been created."
   ],
   "metadata": {
    "collapsed": false
   }
  }
 ],
 "metadata": {
  "kernelspec": {
   "display_name": "Python 3",
   "language": "python",
   "name": "python3"
  },
  "language_info": {
   "codemirror_mode": {
    "name": "ipython",
    "version": 2
   },
   "file_extension": ".py",
   "mimetype": "text/x-python",
   "name": "python",
   "nbconvert_exporter": "python",
   "pygments_lexer": "ipython2",
   "version": "2.7.6"
  }
 },
 "nbformat": 4,
 "nbformat_minor": 0
}
