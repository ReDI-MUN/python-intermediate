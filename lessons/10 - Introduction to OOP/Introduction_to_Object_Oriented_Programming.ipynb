{
 "cells": [
  {
   "cell_type": "markdown",
   "source": [
    "# Introduction to Object-Oriented Programming\n",
    "\n",
    "1. What is Object-Oriented Programming?\n",
    "2. Basic Concepts of Object-Oriented Programming\n",
    "   - Classes and Objects\n",
    "   - Attributes and Methods\n",
    "   - Encapsulation\n",
    "   - Inheritance\n",
    "   - Polymorphism\n",
    "3. Creating a Class and Objects\n",
    "4. Working with Class Attributes and Methods\n",
    "5. Using Inheritance to Create Subclasses"
   ],
   "metadata": {
    "collapsed": false
   }
  },
  {
   "cell_type": "markdown",
   "source": [
    "## 1. What is Object-Oriented Programming?\n",
    "\n",
    "Object-Oriented Programming (OOP) is a programming paradigm that emphasizes the use of objects and their interactions to design and develop software. OOP is based on the idea of objects, which can contain data (called attributes) and code (called methods), and the interaction between them. OOP allows you to organize code into reusable components and make it easier to maintain and modify."
   ],
   "metadata": {
    "collapsed": false
   }
  },
  {
   "cell_type": "markdown",
   "source": [
    "## 2. Basic Concepts of Object-Oriented Programming\n",
    "\n",
    "### Classes and Objects\n",
    "\n",
    "A class is a blueprint or template for creating objects, while an object is an instance of a class. In OOP, a class defines the data and behavior of its objects. The data is represented by attributes (also known as fields or properties), and the behavior is represented by methods (also known as functions).\n",
    "\n",
    "### Attributes and Methods\n",
    "\n",
    "Attributes are the data members (variables) of a class, while methods are the functions that can access and modify these data members. Attributes can be thought of as the nouns of a class, while methods can be thought of as the verbs.\n",
    "\n",
    "### Encapsulation\n",
    "\n",
    "Encapsulation is the concept of bundling data and methods that operate on that data within a single unit called a class. This provides a way to hide the data and methods from outside code, and only allow access through a defined set of methods, which can help prevent unwanted modifications to the data.\n",
    "\n",
    "### Inheritance\n",
    "\n",
    "Inheritance is the process by which one class inherits the properties (attributes and methods) of another class. The class that is being inherited from is called the parent or base class, while the class that inherits from the base class is called the child or derived class. Inheritance allows you to create new classes based on existing classes, and to reuse code and data without having to rewrite it.\n",
    "\n",
    "### Polymorphism\n",
    "\n",
    "Polymorphism is the ability of an object to take on many forms. In OOP, polymorphism allows you to create objects that can be treated as if they are of multiple types. Polymorphism is closely related to inheritance, as it allows you to use a derived class object wherever a base class object is expected."
   ],
   "metadata": {
    "collapsed": false
   }
  },
  {
   "cell_type": "markdown",
   "source": [
    "## 3. Creating a Class and Objects\n",
    "\n",
    "In Python, you can define a class using the `class` keyword, followed by the name of the class. Here's an example:"
   ],
   "metadata": {
    "collapsed": false
   }
  },
  {
   "cell_type": "code",
   "execution_count": 1,
   "outputs": [],
   "source": [
    "class Person:\n",
    "    def __init__(self, name, age):\n",
    "        self.name = name\n",
    "        self.age = age\n",
    "\n",
    "    def greet(self):\n",
    "        print(f\"Hello, my name is {self.name} and I'm {self.age} years old.\")"
   ],
   "metadata": {
    "collapsed": false
   }
  },
  {
   "cell_type": "markdown",
   "source": [
    "This creates a class called `Person` with two attributes (`name` and `age`) and one method (`greet()`). The `__init__()` method is a special method that is called when an object of the class is created, and is used to initialize the object's attributes."
   ],
   "metadata": {
    "collapsed": false
   }
  },
  {
   "cell_type": "markdown",
   "source": [
    "# 4. Working with Class Attributes and Methods\n",
    "\n",
    "To create a new `Person` object, you can use the class constructor, like this:"
   ],
   "metadata": {
    "collapsed": false
   }
  },
  {
   "cell_type": "code",
   "execution_count": 2,
   "outputs": [],
   "source": [
    "person1 = Person(\"Alice\", 25)"
   ],
   "metadata": {
    "collapsed": false
   }
  },
  {
   "cell_type": "markdown",
   "source": [
    "This creates a `Person` object called `person1` with the attributes `name` set to `\"Alice\"` and `age` set to `25`. You can access the attributes of an object using dot notation, like this:"
   ],
   "metadata": {
    "collapsed": false
   }
  },
  {
   "cell_type": "code",
   "execution_count": 3,
   "outputs": [
    {
     "name": "stdout",
     "output_type": "stream",
     "text": [
      "Alice\n",
      "25\n"
     ]
    }
   ],
   "source": [
    "print(person1.name)\n",
    "print(person1.age)"
   ],
   "metadata": {
    "collapsed": false
   }
  },
  {
   "cell_type": "markdown",
   "source": [
    "You can also modify the attributes of an object using dot notation:"
   ],
   "metadata": {
    "collapsed": false
   }
  },
  {
   "cell_type": "code",
   "execution_count": 4,
   "outputs": [
    {
     "name": "stdout",
     "output_type": "stream",
     "text": [
      "26\n"
     ]
    }
   ],
   "source": [
    "person1.age = 26\n",
    "print(person1.age)"
   ],
   "metadata": {
    "collapsed": false
   }
  },
  {
   "cell_type": "markdown",
   "source": [
    "To call a method of an object, you can also use the dot notation, like this:"
   ],
   "metadata": {
    "collapsed": false
   }
  },
  {
   "cell_type": "code",
   "execution_count": 5,
   "outputs": [
    {
     "name": "stdout",
     "output_type": "stream",
     "text": [
      "Hello, my name is Alice and I'm 26 years old.\n"
     ]
    }
   ],
   "source": [
    "person1.greet()"
   ],
   "metadata": {
    "collapsed": false
   }
  },
  {
   "cell_type": "markdown",
   "source": [
    "# 5. Using Inheritance to Create Subclasses\n",
    "\n",
    "Inheritance is a powerful feature of OOP that allows you to create a new class based on an existing class. The new class inherits the attributes and methods of the existing class and can also have its own unique attributes and methods. The existing class is called the parent class or superclass, while the new class is called the child class or subclass."
   ],
   "metadata": {
    "collapsed": false
   }
  },
  {
   "cell_type": "markdown",
   "source": [
    "### Syntax for Inheritance\n",
    "Here's an example of how to create a `Student` class that inherits from the `Person` class:"
   ],
   "metadata": {
    "collapsed": false
   }
  },
  {
   "cell_type": "code",
   "execution_count": 6,
   "outputs": [],
   "source": [
    "class Student(Person):\n",
    "    def __init__(self, name, age, student_id):\n",
    "        super().__init__(name, age)\n",
    "        self.student_id = student_id\n",
    "\n",
    "    def get_student_info(self):\n",
    "        self.greet()\n",
    "        print(f\"My student ID is {self.student_id}.\")"
   ],
   "metadata": {
    "collapsed": false
   }
  },
  {
   "cell_type": "markdown",
   "source": [
    "The `Student` class inherits from the `Person` class and has an additional `student_id` attribute and a `get_student_info()` method that calls the `greet()` method from the parent class and prints the `student_id` attribute. The `super()` function is used to call the constructor of the parent class and initialize the `name` and `age` attributes."
   ],
   "metadata": {
    "collapsed": false
   }
  },
  {
   "cell_type": "code",
   "execution_count": 7,
   "outputs": [
    {
     "name": "stdout",
     "output_type": "stream",
     "text": [
      "Hello, my name is Bob and I'm 20 years old.\n",
      "My student ID is S1234.\n"
     ]
    }
   ],
   "source": [
    "student1 = Student(\"Bob\", 20, \"S1234\")\n",
    "student1.get_student_info()"
   ],
   "metadata": {
    "collapsed": false
   }
  },
  {
   "cell_type": "markdown",
   "source": [
    "### Overriding Methods\n",
    "\n",
    "When you create a subclass, you can also override methods of the parent class by defining a method with the same name in the child class. Here's an example of how to override the `greet` method in the `Student` class to include the `student_id` attribute:"
   ],
   "metadata": {
    "collapsed": false
   }
  },
  {
   "cell_type": "code",
   "execution_count": 8,
   "outputs": [],
   "source": [
    "class Student(Person):\n",
    "    def __init__(self, name, age, student_id):\n",
    "        super().__init__(name, age)\n",
    "        self.student_id = student_id\n",
    "\n",
    "    def greet(self):\n",
    "        print(f\"Hello, my name is {self.name} and I'm {self.age} years old and my student ID is {self.student_id}.\")"
   ],
   "metadata": {
    "collapsed": false
   }
  },
  {
   "cell_type": "code",
   "execution_count": 9,
   "outputs": [
    {
     "name": "stdout",
     "output_type": "stream",
     "text": [
      "Hello, my name is Bob and I'm 20 years old and my student ID is S1234.\n"
     ]
    }
   ],
   "source": [
    "student1 = Student(\"Bob\", 20, \"S1234\")\n",
    "student1.greet()"
   ],
   "metadata": {
    "collapsed": false
   }
  },
  {
   "cell_type": "markdown",
   "source": [
    "### Checking Inheritance\n",
    "\n",
    "You can check if an object is an instance of a particular class or subclass using the `isinstance()` function. Here's an example:"
   ],
   "metadata": {
    "collapsed": false
   }
  },
  {
   "cell_type": "code",
   "execution_count": 10,
   "outputs": [
    {
     "name": "stdout",
     "output_type": "stream",
     "text": [
      "Is person1 an instance of Person? True\n",
      "Is person1 an instance of Student? False\n",
      "Is student1 an instance of Person? True\n",
      "Is student1 an instance of Student? True\n"
     ]
    }
   ],
   "source": [
    "person1 = Person(\"Alice\", 25)\n",
    "student1 = Student(\"Bob\", 20, \"S1234\")\n",
    "\n",
    "print(f\"Is person1 an instance of Person? {isinstance(person1, Person)}\")\n",
    "print(f\"Is person1 an instance of Student? {isinstance(person1, Student)}\")\n",
    "print(f\"Is student1 an instance of Person? {isinstance(student1, Person)}\")\n",
    "print(f\"Is student1 an instance of Student? {isinstance(student1, Student)}\")"
   ],
   "metadata": {
    "collapsed": false
   }
  },
  {
   "cell_type": "markdown",
   "source": [
    "The `student1` object is an instance of both the `Person` class and the `Student` class, while the `person1` object is only an instance of the `Person` class. It's important to note that the reverse is not true - an instance of the `Person` class is not necessarily an instance of the `Student` class."
   ],
   "metadata": {
    "collapsed": false
   }
  },
  {
   "cell_type": "markdown",
   "source": [
    "# Conclusion\n",
    "\n",
    "In this notebook, we introduced you to the basic concepts of Object-Oriented Programming (OOP) and showed you how to create a class and objects in Python. We also covered working with class attributes and methods and using inheritance to create subclasses.\n",
    "\n",
    "OOP is a powerful programming paradigm that allows you to create modular, reusable, and maintainable code. It is widely used in software development, especially in larger projects where code organization and scalability are important.\n",
    "\n",
    "We hope this notebook helped you understand the basics of OOP and how to use it in Python. Practice creating classes and objects, working with attributes and methods, and using inheritance to create subclasses. Good luck!"
   ],
   "metadata": {
    "collapsed": false
   }
  },
  {
   "cell_type": "markdown",
   "source": [
    "### Exercise: Convert the Zoo Management System to Object-Oriented Programming\n",
    "\n",
    "In this exercise, you will convert the given procedural program for a zoo management system into an object-oriented program. The procedural program consists of a list of animals and several functions to manage the animals in the zoo.\n",
    "\n",
    "Your task is to apply the principles of object-oriented programming (OOP) to redesign and re-implement the zoo management system. Follow the instructions below to complete the exercise:\n",
    "\n",
    "1.  **Design classes**: Identify the classes you need to create for the zoo management system. For example, you might create an `Animal` class and a `Zoo` class.\n",
    "\n",
    "2.  **Define attributes and methods**: Determine the attributes and methods required for each class. Make sure to consider encapsulation when designing your classes.\n",
    "\n",
    "3.  **Implement class constructors**: Write the `__init__` method for each class, which initializes the attributes with the provided arguments.\n",
    "\n",
    "4.  **Convert functions to class methods**: Transform the procedural functions (e.g., `add_animal`, `get_animal`, `remove_animal`, and `print_animal`) into class methods. Ensure that each method operates on the class's attributes and follows OOP principles.\n",
    "\n",
    "5.  **Create objects**: Replace the global list `zoo_animals` with an object representing the zoo. Create animal objects and add them to the zoo object.\n",
    "\n",
    "6.  **Test your implementation**: Test your OOP implementation by performing the same actions as in the procedural example (adding animals, getting animals, and removing animals). Verify that your implementation produces the same results.\n",
    "\n",
    "\n",
    "As you work through the exercise, keep the following OOP concepts in mind:\n",
    "\n",
    "*   **Encapsulation**: Bundle related data and functions together within classes, and use access control to restrict access to certain attributes or methods.\n",
    "*   **Inheritance**: If applicable, consider creating subclasses for different animal species or categories to reuse and extend the code.\n",
    "*   **Polymorphism**: Implement methods that can operate on multiple types or classes of objects, if applicable.\n",
    "\n",
    "After completing this exercise, you should have a better understanding of how to design and implement object-oriented programs in Python."
   ],
   "metadata": {
    "collapsed": false
   }
  },
  {
   "cell_type": "code",
   "execution_count": 11,
   "outputs": [
    {
     "name": "stdout",
     "output_type": "stream",
     "text": [
      "Simba (Lion), 5 years old\n",
      "Animal not found.\n"
     ]
    }
   ],
   "source": [
    "# Procedural Programming Example: Zoo Management System\n",
    "\n",
    "# Initialize a list of animals in the zoo\n",
    "zoo_animals = []\n",
    "\n",
    "# Define functions for the zoo management system\n",
    "\n",
    "def add_animal(animal_name, species, age):\n",
    "    animal = {\n",
    "        \"name\": animal_name,\n",
    "        \"species\": species,\n",
    "        \"age\": age\n",
    "    }\n",
    "    zoo_animals.append(animal)\n",
    "\n",
    "def get_animal(animal_name):\n",
    "    for animal in zoo_animals:\n",
    "        if animal[\"name\"] == animal_name:\n",
    "            return animal\n",
    "    return None\n",
    "\n",
    "def remove_animal(animal_name):\n",
    "    animal = get_animal(animal_name)\n",
    "    if animal:\n",
    "        zoo_animals.remove(animal)\n",
    "\n",
    "def print_animal(animal):\n",
    "    if animal:\n",
    "        print(f\"{animal['name']} ({animal['species']}), {animal['age']} years old\")\n",
    "    else:\n",
    "        print(\"Animal not found.\")\n",
    "\n",
    "# Add animals\n",
    "add_animal(\"Simba\", \"Lion\", 5)\n",
    "add_animal(\"Nala\", \"Lion\", 4)\n",
    "add_animal(\"Zazu\", \"Hornbill\", 7)\n",
    "\n",
    "# Get an animal\n",
    "animal = get_animal(\"Simba\")\n",
    "print_animal(animal)\n",
    "\n",
    "# Remove an animal\n",
    "remove_animal(\"Zazu\")\n",
    "print_animal(get_animal(\"Zazu\"))"
   ],
   "metadata": {
    "collapsed": false
   }
  }
 ],
 "metadata": {
  "kernelspec": {
   "display_name": "Python 3",
   "language": "python",
   "name": "python3"
  },
  "language_info": {
   "codemirror_mode": {
    "name": "ipython",
    "version": 2
   },
   "file_extension": ".py",
   "mimetype": "text/x-python",
   "name": "python",
   "nbconvert_exporter": "python",
   "pygments_lexer": "ipython2",
   "version": "2.7.6"
  }
 },
 "nbformat": 4,
 "nbformat_minor": 0
}
